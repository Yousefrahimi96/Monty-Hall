{
 "cells": [
  {
   "cell_type": "code",
   "execution_count": null,
   "metadata": {},
   "outputs": [],
   "source": [
    "import streamlit as st\n",
    "import time\n",
    "\n",
    "from monty_hall import simulate_games\n",
    "\n",
    "# Title of the application\n",
    "st.image('src/images/banner.png')\n",
    "\n",
    "num_games = st.number_input(\"Enter number of games to simulate\", min_value=1, value=100)\n",
    "\n",
    "# Create two lists to hold win percentages for both cases\n",
    "wins_no_switch = 0\n",
    "wins_switch = 0\n",
    "\n",
    "col1, col2 = st.columns(2)\n",
    "col1.subheader(\"Win Percentage Without Switching\")\n",
    "chart1 = col1.line_chart(x=None, y=None, width=0, height=400)\n",
    "chart1.add_rows([1.0]) # Add a row to ensure the chart y-axis starts at 1\n",
    "col2.subheader(\"Win Percentage With Switching\")\n",
    "chart2 = col2.line_chart(x=None, y=None, width=0, height=400)\n",
    "chart2.add_rows([1.0]) # Add a row to ensure the chart y-axis starts at 1\n",
    "\n",
    "for i in range(num_games):\n",
    "    # Simulate one game at a time\n",
    "    num_wins_without_switching, num_wins_with_switching = simulate_games(1)\n",
    "\n",
    "    # Calculate win percentages for both cases and add to lists\n",
    "    wins_no_switch += num_wins_without_switching\n",
    "    wins_switch += num_wins_with_switching\n",
    "\n",
    "    # # Display the current percentages after each game\n",
    "    chart1.add_rows([wins_no_switch / (i + 1)])\n",
    "    chart2.add_rows([wins_switch / (i + 1)])\n",
    "\n",
    "    # Add a delay to create a slow loop effect\n",
    "    time.sleep(0.01)\n"
   ]
  }
 ],
 "metadata": {
  "kernelspec": {
   "display_name": "yousef",
   "language": "python",
   "name": "python3"
  },
  "language_info": {
   "codemirror_mode": {
    "name": "ipython",
    "version": 3
   },
   "file_extension": ".py",
   "mimetype": "text/x-python",
   "name": "python",
   "nbconvert_exporter": "python",
   "pygments_lexer": "ipython3",
   "version": "3.13.2"
  }
 },
 "nbformat": 4,
 "nbformat_minor": 2
}
