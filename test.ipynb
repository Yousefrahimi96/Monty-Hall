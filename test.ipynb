{
 "cells": [
  {
   "cell_type": "code",
   "execution_count": 46,
   "metadata": {},
   "outputs": [],
   "source": [
    "import random\n",
    "doors = ['goat', 'car', 'goat']\n",
    "\n",
    "def monty_hall(switch):\n",
    "    random.shuffle(doors)\n",
    "    initial_choice = random.choice(range(3))\n",
    "    open_door = [i for i in range(3) if i != initial_choice and doors[i] == 'goat'][0]\n",
    "    \n",
    "    if switch:\n",
    "        final_choice = [n for n in range(3) if n != initial_choice and n != open_door][0]\n",
    "    else:\n",
    "        final_choice = initial_choice\n",
    "        \n",
    "    return doors[final_choice] == 'car'\n"
   ]
  },
  {
   "cell_type": "code",
   "execution_count": 50,
   "metadata": {},
   "outputs": [],
   "source": [
    "def count_resault(count):\n",
    "    resuly_count = []\n",
    "    for _ in range(count):\n",
    "        resuly_count.append(monty_hall(True))\n",
    "\n",
    "    return resuly_count.count(True)/count*100\n",
    "    "
   ]
  },
  {
   "cell_type": "code",
   "execution_count": 51,
   "metadata": {},
   "outputs": [
    {
     "data": {
      "text/plain": [
       "66.661"
      ]
     },
     "execution_count": 51,
     "metadata": {},
     "output_type": "execute_result"
    }
   ],
   "source": [
    "count_resault(100000)"
   ]
  },
  {
   "cell_type": "code",
   "execution_count": null,
   "metadata": {},
   "outputs": [],
   "source": []
  }
 ],
 "metadata": {
  "kernelspec": {
   "display_name": "yousef",
   "language": "python",
   "name": "python3"
  },
  "language_info": {
   "codemirror_mode": {
    "name": "ipython",
    "version": 3
   },
   "file_extension": ".py",
   "mimetype": "text/x-python",
   "name": "python",
   "nbconvert_exporter": "python",
   "pygments_lexer": "ipython3",
   "version": "3.13.2"
  }
 },
 "nbformat": 4,
 "nbformat_minor": 2
}
